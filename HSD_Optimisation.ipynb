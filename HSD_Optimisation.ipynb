{
  "nbformat": 4,
  "nbformat_minor": 0,
  "metadata": {
    "colab": {
      "provenance": []
    },
    "kernelspec": {
      "name": "python3",
      "display_name": "Python 3"
    },
    "language_info": {
      "name": "python"
    }
  },
  "cells": [
    {
      "cell_type": "code",
      "execution_count": null,
      "metadata": {
        "id": "RjcqeMSRg1E3"
      },
      "outputs": [],
      "source": [
        "import numpy as np\n",
        "import matplotlib.pyplot as plt\n",
        "%matplotlib inline"
      ]
    },
    {
      "cell_type": "code",
      "source": [
        "#intial properties and parameters\n",
        "k_air = 0.032954\t  #(0.03095+0.03235)/2 # Thermal conductivity of air\n",
        "nu =   25.784e-6   #(23.06e-6 + 25.22e-6)/2  # Kinematic Viscocity\n",
        "alpha =   37.53e-6 #(35.65e-6+32.43e-6)/2   # Thermal diffusivity\n",
        "beta = 1/398    # Volumetric coeffecient here the temperature is taken as average of surface and ambient in K((225+25)/2)+273\n",
        "T_dif = 200  #base temp = 225     # Temperature difference between surface and the outside air\n",
        "Lb = 0.12        # Length of box\n",
        "W = 0.15         # Width of box\n",
        "k_al =230 #400  #230       # Thermal conductivity of Aluminium"
      ],
      "metadata": {
        "id": "d5FBL7wWpAzy"
      },
      "execution_count": null,
      "outputs": []
    },
    {
      "cell_type": "code",
      "source": [
        "Ral = 9.81*beta*T_dif*(Lb**3)/(alpha*nu) # Rayleigh's number\n",
        "z_opt = Lb*2.714*(Ral**-0.25)            # Optimized value of fin spacing\n",
        "z_opt"
      ],
      "metadata": {
        "id": "rUmz4Uu4psGg",
        "colab": {
          "base_uri": "https://localhost:8080/"
        },
        "outputId": "3c30edc7-ddf9-4a9d-de1c-af83bf99b50e"
      },
      "execution_count": null,
      "outputs": [
        {
          "output_type": "execute_result",
          "data": {
            "text/plain": [
              "0.005979066535690783"
            ]
          },
          "metadata": {},
          "execution_count": 3
        }
      ]
    },
    {
      "cell_type": "code",
      "source": [
        "h = (k_air/Lb)*0.517*(Ral**0.25)\n",
        "q = h*W*Lb*T_dif\n",
        "q"
      ],
      "metadata": {
        "colab": {
          "base_uri": "https://localhost:8080/"
        },
        "id": "CQIhTsWLjTnR",
        "outputId": "77f09027-63b2-4a0b-f5ca-83f84ea72743"
      },
      "execution_count": null,
      "outputs": [
        {
          "output_type": "execute_result",
          "data": {
            "text/plain": [
              "27.840538945928987"
            ]
          },
          "metadata": {},
          "execution_count": 4
        }
      ]
    },
    {
      "cell_type": "code",
      "source": [
        "Raz = 9.81*beta*T_dif*(z_opt**3)/(alpha*nu)\n",
        "El = Raz*(z_opt/Lb) # Elenbaas's number\n",
        "h_z = (k_air/z_opt)*((576/(El**2))+(2.873/(El**0.5)))**-0.5 # Heat transfer coefficient\n",
        "h_z"
      ],
      "metadata": {
        "colab": {
          "base_uri": "https://localhost:8080/"
        },
        "id": "HmkBux8ysGzb",
        "outputId": "39c5d039-9886-4de4-cea9-c7d0dfe59138"
      },
      "execution_count": null,
      "outputs": [
        {
          "output_type": "execute_result",
          "data": {
            "text/plain": [
              "7.201582070738843"
            ]
          },
          "metadata": {},
          "execution_count": 5
        }
      ]
    },
    {
      "cell_type": "code",
      "source": [
        "def my_function(t):         # This function is created that returns the total power dissipated through fins depending upon the thickness of a fin\n",
        "    n = W/(z_opt+t)         # Number of fins in a multiple arrayed fin structure\n",
        "    bo_num = 1.4192*(((k_al*t)/2*h_z)**0.5)\n",
        "    bo_den = 1-1.125*(h_z/k_al)*(((k_al*t)/2*h_z)**0.5)\n",
        "    bo = bo_num/bo_den      # Optimum profile length\n",
        "    At = n*(2*(Lb+t)*bo+(Lb*z_opt)) # Total area of fins\n",
        "    Af = 2*(Lb+t)*bo        # Area of single fin\n",
        "    x = bo*((h_z*2*(Lb+t))/(k_al*Lb*t))**0.5  #x = mb, in efficiency\n",
        "    Effi_f = (np.tanh(x))/x # Efficiency of single fin\n",
        "    Effi_o = 1-n*(Af/At)*(1-Effi_f)  # Efficiency of arrayed fin structure\n",
        "    q_total = Effi_o*h_z*At*T_dif  # Net power dissipated through the fins\n",
        "    return q_total"
      ],
      "metadata": {
        "id": "1qLScT4VhNJR"
      },
      "execution_count": null,
      "outputs": []
    },
    {
      "cell_type": "code",
      "source": [
        "from scipy.optimize import minimize\n",
        "\n",
        "initial_guess = 0.0025\n",
        "result = minimize(lambda t: -my_function(t), initial_guess, bounds=[(0, None)])\n",
        "optimal_t = result.x[0]\n",
        "max_value = -result.fun\n",
        "print(f\"Optimal t: {optimal_t}\")      # The value of t for which heat dissipation is maximized\n",
        "print(f\"Maximum value: {max_value}\")  #maximum heat dissipation"
      ],
      "metadata": {
        "colab": {
          "base_uri": "https://localhost:8080/"
        },
        "id": "jOWnBZFsbvKl",
        "outputId": "505ea0a3-3198-4b8c-d34b-2d6133bac697"
      },
      "execution_count": null,
      "outputs": [
        {
          "output_type": "stream",
          "name": "stdout",
          "text": [
            "Optimal t: 0.006503229747805517\n",
            "Maximum value: 1386.8579773448457\n"
          ]
        }
      ]
    },
    {
      "cell_type": "code",
      "source": [
        "t = np.linspace(0,0.02,10000) # Plot obtained between net total heat transfered and fin thickness with varying profile length\n",
        "y = my_function(t)\n",
        "plt.plot(t,y)\n",
        "plt.xlabel(\"thickness\")\n",
        "plt.ylabel(\"Total Heat transfer rate\")\n",
        "plt.show()"
      ],
      "metadata": {
        "colab": {
          "base_uri": "https://localhost:8080/",
          "height": 518
        },
        "id": "I-IIzAybhOBB",
        "outputId": "9513a350-f496-4f57-cdd6-82014115cc91"
      },
      "execution_count": null,
      "outputs": [
        {
          "output_type": "stream",
          "name": "stderr",
          "text": [
            "<ipython-input-6-7a182bbbb542>:8: RuntimeWarning: divide by zero encountered in divide\n",
            "  x = bo*((h_z*2*(Lb+t))/(k_al*Lb*t))**0.5  #x = mb, in efficiency\n",
            "<ipython-input-6-7a182bbbb542>:8: RuntimeWarning: invalid value encountered in multiply\n",
            "  x = bo*((h_z*2*(Lb+t))/(k_al*Lb*t))**0.5  #x = mb, in efficiency\n"
          ]
        },
        {
          "output_type": "display_data",
          "data": {
            "text/plain": [
              "<Figure size 640x480 with 1 Axes>"
            ],
            "image/png": "[encoded data removed]"
          },
          "metadata": {}
        }
      ]
    },
    {
      "cell_type": "markdown",
      "source": [
        "However the above calculations are when there is no restriction on the profile lenght(b). But as per problem statement we want to restrict profile lenght to 19mm"
      ],
      "metadata": {
        "id": "yD6_BD6je7z4"
      }
    },
    {
      "cell_type": "code",
      "source": [
        "def qtotal_cstr(t,b):   #considering two parameters rather than one\n",
        "    n = W/(z_opt+t)\n",
        "    # bo_num = 1.4192*((k_al*t)/2*h_z)**0.5\n",
        "    # bo_den = 1-1.125*(h_z/k_al)*((k_al*t)/2*h_z)**0.5\n",
        "    # bo = bo_num/bo_den\n",
        "    # here we are considering a fuxed profile length of 19mm  and not the optimized length\n",
        "    bo = b\n",
        "    At = n*(2*(Lb+t)*bo+(Lb*z_opt))\n",
        "    Af = 2*(Lb+t)*bo\n",
        "    x = bo*((h_z*2*(Lb+t))/(k_al*Lb*t))**0.5\n",
        "    Effi_f = (np.tanh(x))/x\n",
        "    Effi_o = 1-n*(Af/At)*(1-Effi_f)\n",
        "    q_total = Effi_o*h_z*At*T_dif\n",
        "    return q_total"
      ],
      "metadata": {
        "id": "6E2Ip8bd-dHh"
      },
      "execution_count": null,
      "outputs": []
    },
    {
      "cell_type": "code",
      "source": [
        "initial_guess = 0.0005\n",
        "maxx = 0\n",
        "topt = 0\n",
        "b_crst = 0\n",
        "for i in np.linspace(0,0.019,1000):\n",
        "    result = minimize(lambda t: -qtotal_cstr(t,i), initial_guess, bounds=[(0, None)])\n",
        "    optimal_t = result.x[0]\n",
        "    max_value = -result.fun\n",
        "    if(max_value>maxx):\n",
        "      maxx = max_value\n",
        "      topt = optimal_t\n",
        "      b_crst = i\n",
        "print(f\"Optimal t: {optimal_t}\")\n",
        "print(f\"Maximum value: {max_value}\")\n",
        "print(b_crst, \"Profile Length with max heat dissipation\")"
      ],
      "metadata": {
        "colab": {
          "base_uri": "https://localhost:8080/"
        },
        "id": "bXex0VdpgDn3",
        "outputId": "a9e47889-d85c-4064-eb9b-e41c41e9b016"
      },
      "execution_count": null,
      "outputs": [
        {
          "output_type": "stream",
          "name": "stderr",
          "text": [
            "<ipython-input-9-e31d9da12819>:11: RuntimeWarning: invalid value encountered in divide\n",
            "  Effi_f = (np.tanh(x))/x\n",
            "<ipython-input-9-e31d9da12819>:10: RuntimeWarning: divide by zero encountered in divide\n",
            "  x = bo*((h_z*2*(Lb+t))/(k_al*Lb*t))**0.5\n"
          ]
        },
        {
          "output_type": "stream",
          "name": "stdout",
          "text": [
            "Optimal t: 0.00019941232679226726\n",
            "Maximum value: 179.0237654054285\n",
            "0.019 Profile Length with max heat dissipation\n"
          ]
        }
      ]
    },
    {
      "cell_type": "code",
      "source": [
        "t = np.linspace(0,0.002,3000)  # Here we are plotting power dissipated through fins with constant profile length of 19 mm\n",
        "y = qtotal_cstr(t,0.019)\n",
        "\n",
        "plt.plot(t,y)\n",
        "plt.xlabel(\"thickness\")\n",
        "plt.ylabel(\"Total Heat transfer rate\")\n",
        "plt.show()"
      ],
      "metadata": {
        "id": "I0J8W7m-_RWc",
        "outputId": "1b4532f3-f739-494b-c0f8-2094bf863c4d",
        "colab": {
          "base_uri": "https://localhost:8080/",
          "height": 484
        }
      },
      "execution_count": null,
      "outputs": [
        {
          "output_type": "stream",
          "name": "stderr",
          "text": [
            "<ipython-input-9-e31d9da12819>:10: RuntimeWarning: divide by zero encountered in divide\n",
            "  x = bo*((h_z*2*(Lb+t))/(k_al*Lb*t))**0.5\n"
          ]
        },
        {
          "output_type": "display_data",
          "data": {
            "text/plain": [
              "<Figure size 640x480 with 1 Axes>"
            ],
            "image/png": "[encoded data removed]"
          },
          "metadata": {}
        }
      ]
    },
    {
      "cell_type": "code",
      "source": [],
      "metadata": {
        "id": "aF50eEFjcsAl"
      },
      "execution_count": null,
      "outputs": []
    },
    {
      "cell_type": "code",
      "source": [
        "n = W/(z_opt+0.00015163511257545523)"
      ],
      "metadata": {
        "id": "J6j2TttZfLTW"
      },
      "execution_count": null,
      "outputs": []
    },
    {
      "cell_type": "code",
      "source": [
        "n"
      ],
      "metadata": {
        "colab": {
          "base_uri": "https://localhost:8080/"
        },
        "id": "4GKEqyF1hAHd",
        "outputId": "293cf974-95f0-4bc7-ec07-e6bd302ac024"
      },
      "execution_count": null,
      "outputs": [
        {
          "output_type": "execute_result",
          "data": {
            "text/plain": [
              "24.467020025745338"
            ]
          },
          "metadata": {},
          "execution_count": 13
        }
      ]
    },
    {
      "cell_type": "code",
      "source": [
        "z_opt"
      ],
      "metadata": {
        "colab": {
          "base_uri": "https://localhost:8080/"
        },
        "id": "nX1pbIXHhA7c",
        "outputId": "0db44bf5-d1f2-4743-a272-2b22951a4395"
      },
      "execution_count": null,
      "outputs": [
        {
          "output_type": "execute_result",
          "data": {
            "text/plain": [
              "0.005979066535690783"
            ]
          },
          "metadata": {},
          "execution_count": 14
        }
      ]
    },
    {
      "cell_type": "code",
      "source": [],
      "metadata": {
        "id": "oCVqHl47hIGb"
      },
      "execution_count": null,
      "outputs": []
    }
  ]
}