{
  "nbformat": 4,
  "nbformat_minor": 0,
  "metadata": {
    "colab": {
      "provenance": []
    },
    "kernelspec": {
      "name": "python3",
      "display_name": "Python 3"
    },
    "language_info": {
      "name": "python"
    }
  },
  "cells": [
    {
      "cell_type": "code",
      "execution_count": null,
      "metadata": {
        "id": "DJDd89JyyrI1"
      },
      "outputs": [],
      "source": [
        "import numpy as np\n",
        "import matplotlib.pyplot as plt\n",
        "%matplotlib inline"
      ]
    },
    {
      "cell_type": "code",
      "source": [
        "#intial properties and parameters\n",
        "k_air = 0.0274   # Thermal conductivity of air\n",
        "nu = 19.2e-6     # Kinematic Viscocity\n",
        "alpha = 26e-6    # Thermal diffusivity\n",
        "beta = 1/328     # Volumetric coeffecient here the temperature is taken as average of surface and ambient in K((85+25)/2)+273\n",
        "T_dif = 60       # Temperature difference between surface and the outside air\n",
        "Lb = 0.12        # Length of box\n",
        "W = 0.15         # Width of box\n",
        "k_al = 237       # Thermal conductivity of Aluminium"
      ],
      "metadata": {
        "id": "bIRMb_LFy9jB"
      },
      "execution_count": null,
      "outputs": []
    },
    {
      "cell_type": "code",
      "source": [
        "Ral = 9.81*beta*T_dif*(Lb**3)/(alpha*nu) # Rayleigh's number\n",
        "z_opt = Lb*2.714*(Ral**-0.25)            # Optimized value of fin spacing"
      ],
      "metadata": {
        "id": "6C6j88tMzKh-"
      },
      "execution_count": null,
      "outputs": []
    },
    {
      "cell_type": "code",
      "source": [
        "Ral,z_opt"
      ],
      "metadata": {
        "colab": {
          "base_uri": "https://localhost:8080/"
        },
        "id": "xYoP94WBzRL8",
        "outputId": "7568cb88-18cc-41f5-e91b-cbbaa824378f"
      },
      "execution_count": null,
      "outputs": [
        {
          "output_type": "execute_result",
          "data": {
            "text/plain": [
              "(6211772.9831144465, 0.006523598068832195)"
            ]
          },
          "metadata": {},
          "execution_count": 131
        }
      ]
    },
    {
      "cell_type": "code",
      "source": [
        "Raz = 9.81*beta*T_dif*(z_opt**3)/(alpha*nu)\n",
        "El = Raz*(z_opt/Lb) # Elenbaas's number\n",
        "El"
      ],
      "metadata": {
        "colab": {
          "base_uri": "https://localhost:8080/"
        },
        "id": "eqTUjwk4zTp-",
        "outputId": "8f3951cc-b09a-493d-af6b-a3c50ce3cc65"
      },
      "execution_count": null,
      "outputs": [
        {
          "output_type": "execute_result",
          "data": {
            "text/plain": [
              "54.25495071361597"
            ]
          },
          "metadata": {},
          "execution_count": 132
        }
      ]
    },
    {
      "cell_type": "code",
      "source": [
        "h_z = (k_air/z_opt)*((576/(El**2))+(2.873/(El**0.5)))**-0.5 # Heat transfer coefficient\n",
        "h_z"
      ],
      "metadata": {
        "colab": {
          "base_uri": "https://localhost:8080/"
        },
        "id": "vr-vvXONzgXd",
        "outputId": "2877cdc2-b154-439b-8633-2769cc5c2cac"
      },
      "execution_count": null,
      "outputs": [
        {
          "output_type": "execute_result",
          "data": {
            "text/plain": [
              "5.488030681087402"
            ]
          },
          "metadata": {},
          "execution_count": 133
        }
      ]
    },
    {
      "cell_type": "code",
      "source": [
        "u = ((2*h_z*Lb)/k_al)**0.5\n",
        "u"
      ],
      "metadata": {
        "colab": {
          "base_uri": "https://localhost:8080/"
        },
        "id": "uTCOgSIMzz9O",
        "outputId": "6e61b5de-39d1-43e5-aae1-550eadb56628"
      },
      "execution_count": null,
      "outputs": [
        {
          "output_type": "execute_result",
          "data": {
            "text/plain": [
              "0.07454863797472075"
            ]
          },
          "metadata": {},
          "execution_count": 134
        }
      ]
    },
    {
      "cell_type": "code",
      "source": [
        "def maxQ(v):\n",
        "  Q = u*(v**(-1/6))*np.tanh(u*(v**0.5))\n",
        "  return Q"
      ],
      "metadata": {
        "id": "DIaB3OlAzjZL"
      },
      "execution_count": null,
      "outputs": []
    },
    {
      "cell_type": "code",
      "source": [
        "x = np.linspace(5,1000,995)\n",
        "y = maxQ(x)\n",
        "\n",
        "plt.plot(x,y)"
      ],
      "metadata": {
        "colab": {
          "base_uri": "https://localhost:8080/",
          "height": 447
        },
        "id": "hH0AZ_zX3z1e",
        "outputId": "1a38a9ee-d0f6-47e6-c946-7f610d7a83b8"
      },
      "execution_count": null,
      "outputs": [
        {
          "output_type": "execute_result",
          "data": {
            "text/plain": [
              "[<matplotlib.lines.Line2D at 0x7d4c6e9fbc40>]"
            ]
          },
          "metadata": {},
          "execution_count": 136
        },
        {
          "output_type": "display_data",
          "data": {
            "text/plain": [
              "<Figure size 640x480 with 1 Axes>"
            ],
            "image/png": "[encoded data removed]"
          },
          "metadata": {}
        }
      ]
    },
    {
      "cell_type": "code",
      "source": [
        "x = np.linspace(200,400,200)\n",
        "y = maxQ(x)\n",
        "\n",
        "plt.plot(x,y)"
      ],
      "metadata": {
        "colab": {
          "base_uri": "https://localhost:8080/",
          "height": 447
        },
        "id": "GHysC1vh9SkO",
        "outputId": "0f7281f8-a06c-4e52-a0ab-000dafce1725"
      },
      "execution_count": null,
      "outputs": [
        {
          "output_type": "execute_result",
          "data": {
            "text/plain": [
              "[<matplotlib.lines.Line2D at 0x7d4c6e8ff550>]"
            ]
          },
          "metadata": {},
          "execution_count": 138
        },
        {
          "output_type": "display_data",
          "data": {
            "text/plain": [
              "<Figure size 640x480 with 1 Axes>"
            ],
            "image/png": "[encoded data removed]"
          },
          "metadata": {}
        }
      ]
    },
    {
      "cell_type": "code",
      "source": [
        "x = np.linspace(350,380,30)\n",
        "y = maxQ(x)\n",
        "\n",
        "plt.plot(x,y)"
      ],
      "metadata": {
        "colab": {
          "base_uri": "https://localhost:8080/",
          "height": 447
        },
        "id": "qeoOJoaD9dkr",
        "outputId": "e2a07386-8d63-488d-a61d-c6dc9e8b5a11"
      },
      "execution_count": null,
      "outputs": [
        {
          "output_type": "execute_result",
          "data": {
            "text/plain": [
              "[<matplotlib.lines.Line2D at 0x7d4c6e783400>]"
            ]
          },
          "metadata": {},
          "execution_count": 139
        },
        {
          "output_type": "display_data",
          "data": {
            "text/plain": [
              "<Figure size 640x480 with 1 Axes>"
            ],
            "image/png": "[encoded data removed]"
          },
          "metadata": {}
        }
      ]
    },
    {
      "cell_type": "code",
      "source": [
        "maxQ(362)"
      ],
      "metadata": {
        "colab": {
          "base_uri": "https://localhost:8080/"
        },
        "id": "54OmAatd4Mdn",
        "outputId": "7e9b555e-ae9f-4206-863e-91e5ed1bec54"
      },
      "execution_count": null,
      "outputs": [
        {
          "output_type": "execute_result",
          "data": {
            "text/plain": [
              "0.024832345678073253"
            ]
          },
          "metadata": {},
          "execution_count": 140
        }
      ]
    },
    {
      "cell_type": "code",
      "source": [
        "v = 362\n",
        "Q = 0.024832345678073253"
      ],
      "metadata": {
        "id": "E8GoSlFz4m1V"
      },
      "execution_count": null,
      "outputs": []
    },
    {
      "cell_type": "code",
      "source": [
        "to = z_opt\n",
        "bo = (v*Lb*to)**0.5\n",
        "bo"
      ],
      "metadata": {
        "colab": {
          "base_uri": "https://localhost:8080/"
        },
        "id": "YJKOxrTp4ak_",
        "outputId": "f47dd199-91f9-48cc-8d80-bd2c1df8b982"
      },
      "execution_count": null,
      "outputs": [
        {
          "output_type": "execute_result",
          "data": {
            "text/plain": [
              "0.5323392716210881"
            ]
          },
          "metadata": {},
          "execution_count": 142
        }
      ]
    },
    {
      "cell_type": "code",
      "source": [
        "n = int(W/(to+z_opt))\n",
        "n"
      ],
      "metadata": {
        "colab": {
          "base_uri": "https://localhost:8080/"
        },
        "id": "xyMPvtOq4wFF",
        "outputId": "088837e0-240f-47d8-88f9-9a2c25892ab2"
      },
      "execution_count": null,
      "outputs": [
        {
          "output_type": "execute_result",
          "data": {
            "text/plain": [
              "11"
            ]
          },
          "metadata": {},
          "execution_count": 143
        }
      ]
    },
    {
      "cell_type": "code",
      "source": [
        "Vf = bo*to*Lb\n",
        "qf = Q*k_al*T_dif*(Vf**(1/3))\n",
        "qf"
      ],
      "metadata": {
        "colab": {
          "base_uri": "https://localhost:8080/"
        },
        "id": "KHc2LrNU47-F",
        "outputId": "4b1cde12-ca63-4c61-cc46-b48e4ed30a99"
      },
      "execution_count": null,
      "outputs": [
        {
          "output_type": "execute_result",
          "data": {
            "text/plain": [
              "26.37563904547464"
            ]
          },
          "metadata": {},
          "execution_count": 144
        }
      ]
    },
    {
      "cell_type": "code",
      "source": [
        "qw = z_opt*Lb*T_dif*h_z\n",
        "qw"
      ],
      "metadata": {
        "colab": {
          "base_uri": "https://localhost:8080/"
        },
        "id": "2SJb5b2o5Ryl",
        "outputId": "826a111a-e98e-4892-a5cf-be8b5ddce1e8"
      },
      "execution_count": null,
      "outputs": [
        {
          "output_type": "execute_result",
          "data": {
            "text/plain": [
              "0.257772285740402"
            ]
          },
          "metadata": {},
          "execution_count": 145
        }
      ]
    },
    {
      "cell_type": "code",
      "source": [
        "qtotal = n*(qf+qw)\n",
        "qtotal"
      ],
      "metadata": {
        "colab": {
          "base_uri": "https://localhost:8080/"
        },
        "id": "4LMbeWQt5YYD",
        "outputId": "0807fd30-b043-4206-c17e-4e82e0848cae"
      },
      "execution_count": null,
      "outputs": [
        {
          "output_type": "execute_result",
          "data": {
            "text/plain": [
              "292.96752464336544"
            ]
          },
          "metadata": {},
          "execution_count": 146
        }
      ]
    },
    {
      "cell_type": "markdown",
      "source": [
        "**With Restricted Profile Length**"
      ],
      "metadata": {
        "id": "-W9-S10c7WUt"
      }
    },
    {
      "cell_type": "code",
      "source": [
        "bo = 0.019"
      ],
      "metadata": {
        "id": "P-CmjSIh7KnG"
      },
      "execution_count": null,
      "outputs": []
    },
    {
      "cell_type": "code",
      "source": [
        "to = (bo**2)/(v*Lb)\n",
        "to"
      ],
      "metadata": {
        "colab": {
          "base_uri": "https://localhost:8080/"
        },
        "id": "l2uBQ7pu7gsm",
        "outputId": "bfb1b525-2718-4108-a31e-b798e47e56ea"
      },
      "execution_count": null,
      "outputs": [
        {
          "output_type": "execute_result",
          "data": {
            "text/plain": [
              "8.310313075506446e-06"
            ]
          },
          "metadata": {},
          "execution_count": 148
        }
      ]
    },
    {
      "cell_type": "code",
      "source": [
        "n = int(W/(to+z_opt))\n",
        "n"
      ],
      "metadata": {
        "colab": {
          "base_uri": "https://localhost:8080/"
        },
        "id": "vJn0-VQj72C2",
        "outputId": "7b10bcad-89f0-4c8a-f1a6-fc4408c18889"
      },
      "execution_count": null,
      "outputs": [
        {
          "output_type": "execute_result",
          "data": {
            "text/plain": [
              "22"
            ]
          },
          "metadata": {},
          "execution_count": 149
        }
      ]
    },
    {
      "cell_type": "code",
      "source": [
        "Vf = bo*to*Lb\n",
        "qf = Q*k_al*T_dif*(Vf**(1/3))\n",
        "qf"
      ],
      "metadata": {
        "colab": {
          "base_uri": "https://localhost:8080/"
        },
        "id": "IT4YNa558NMv",
        "outputId": "eb7c731d-e702-48e6-de87-74490f3606ef"
      },
      "execution_count": null,
      "outputs": [
        {
          "output_type": "execute_result",
          "data": {
            "text/plain": [
              "0.9413867594963404"
            ]
          },
          "metadata": {},
          "execution_count": 150
        }
      ]
    },
    {
      "cell_type": "code",
      "source": [
        "qw = z_opt*Lb*T_dif*h_z\n",
        "qw"
      ],
      "metadata": {
        "colab": {
          "base_uri": "https://localhost:8080/"
        },
        "id": "amA4ECUn8S7M",
        "outputId": "693c1fb3-eaa4-4311-a79c-32a87a2f69a1"
      },
      "execution_count": null,
      "outputs": [
        {
          "output_type": "execute_result",
          "data": {
            "text/plain": [
              "0.257772285740402"
            ]
          },
          "metadata": {},
          "execution_count": 151
        }
      ]
    },
    {
      "cell_type": "code",
      "source": [
        "qtotal = n*(qf+qw)\n",
        "qtotal"
      ],
      "metadata": {
        "colab": {
          "base_uri": "https://localhost:8080/"
        },
        "id": "ULWMe3go8U63",
        "outputId": "964671e9-d852-4d53-ab96-6a9189e1e9ee"
      },
      "execution_count": null,
      "outputs": [
        {
          "output_type": "execute_result",
          "data": {
            "text/plain": [
              "26.381498995208332"
            ]
          },
          "metadata": {},
          "execution_count": 152
        }
      ]
    },
    {
      "cell_type": "code",
      "source": [],
      "metadata": {
        "id": "JvLOOQX48XZA"
      },
      "execution_count": null,
      "outputs": []
    }
  ]
}